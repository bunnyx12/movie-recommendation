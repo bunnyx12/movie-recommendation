{
 "cells": [
  {
   "metadata": {},
   "cell_type": "code",
   "outputs": [],
   "execution_count": null,
   "source": [
    "from langchain_community.document_loaders import TextLoader\n",
    "from langchain_text_splitters import CharacterTextSplitter\n",
    "from langchain_openai import OpenAIEmbeddings\n",
    "from langchain_chroma import Chroma"
   ],
   "id": "16cd0163c53b0fb8"
  },
  {
   "metadata": {},
   "cell_type": "code",
   "outputs": [],
   "execution_count": null,
   "source": [
    "from dotenv import load_dotenv\n",
    "load_dotenv()"
   ],
   "id": "75424506d1c5c3fb"
  },
  {
   "metadata": {},
   "cell_type": "code",
   "outputs": [],
   "execution_count": null,
   "source": [
    "import pandas as pd\n",
    "movies = pd.read_csv(\"movies_cleaned.csv\")"
   ],
   "id": "2075a4e4917cb751"
  },
  {
   "metadata": {},
   "cell_type": "code",
   "outputs": [],
   "execution_count": null,
   "source": "movies",
   "id": "6c65361b9dae7e20"
  },
  {
   "metadata": {},
   "cell_type": "code",
   "outputs": [],
   "execution_count": null,
   "source": "movies[\"tagged_overview\"]",
   "id": "adf2e1dc54ddd3c9"
  },
  {
   "metadata": {},
   "cell_type": "code",
   "outputs": [],
   "execution_count": null,
   "source": "movies[\"tagged_overview\"].to_csv(\"tagged_overview.txt\", index=False, header=False)",
   "id": "fed47f2785e8b791"
  },
  {
   "metadata": {},
   "cell_type": "code",
   "outputs": [],
   "execution_count": null,
   "source": [
    "raw_documents = TextLoader(\"tagged_overview.txt\", encoding=\"utf-8\").load()\n",
    "text_splitter = CharacterTextSplitter(chunk_size=1, chunk_overlap=0, separator=\"\\n\")\n",
    "documents = text_splitter.split_documents(raw_documents)"
   ],
   "id": "af73e6ee6257161a"
  },
  {
   "metadata": {},
   "cell_type": "code",
   "outputs": [],
   "execution_count": null,
   "source": "documents[0]",
   "id": "71117ac9251befe3"
  },
  {
   "metadata": {},
   "cell_type": "code",
   "outputs": [],
   "execution_count": null,
   "source": [
    "db_movies = Chroma.from_documents(\n",
    "    documents,\n",
    "    embedding=OpenAIEmbeddings()\n",
    ")"
   ],
   "id": "a3f8bcf7503d0374"
  },
  {
   "metadata": {},
   "cell_type": "code",
   "outputs": [],
   "execution_count": null,
   "source": [
    "query = \"A movie which tells about story happened during world war 2\"\n",
    "docs = db_movies.similarity_search(query, k = 5)\n",
    "docs"
   ],
   "id": "296977ea958ddbcb"
  },
  {
   "metadata": {},
   "cell_type": "code",
   "outputs": [],
   "execution_count": null,
   "source": "movies[movies[\"id\"] == int(docs[3].page_content.split()[0].strip())]",
   "id": "aa2950a54e41a258"
  },
  {
   "metadata": {},
   "cell_type": "code",
   "outputs": [],
   "execution_count": null,
   "source": [
    "import re\n",
    "\n",
    "def retrieve_semantic_recommendations(query, top_k: int) -> pd.DataFrame:\n",
    "    recs = db_movies.similarity_search(query, k=50)\n",
    "    movie_ids = []\n",
    "\n",
    "    for rec in recs:\n",
    "        # Remove leading/trailing quotes and spaces\n",
    "        text = rec.page_content.strip().lstrip('\"').rstrip('\"').strip()\n",
    "\n",
    "        # Extract the first integer (the movie ID)\n",
    "        match = re.match(r'(\\d+)', text)\n",
    "        if match:\n",
    "            movie_ids.append(int(match.group(1)))\n",
    "\n",
    "    # Remove duplicates while preserving order\n",
    "    movie_ids = list(dict.fromkeys(movie_ids))\n",
    "\n",
    "    # Return top_k rows from your main movies DataFrame\n",
    "    return movies[movies[\"id\"].isin(movie_ids)].head(top_k)\n"
   ],
   "id": "c4697f6c08f62097"
  },
  {
   "metadata": {},
   "cell_type": "code",
   "outputs": [],
   "execution_count": null,
   "source": " retrieve_semantic_recommendations(\"A movie about a father and detective searching for 2 missing childs\", 5)",
   "id": "ce89e40931ca5f69"
  },
  {
   "metadata": {},
   "cell_type": "code",
   "outputs": [],
   "execution_count": null,
   "source": "movies[\"genre\"].str.split(\",\").explode().str.strip().value_counts().reset_index()",
   "id": "fa3223e9da091a3a"
  },
  {
   "metadata": {},
   "cell_type": "code",
   "outputs": [],
   "execution_count": null,
   "source": "movies[movies[\"genre\"].str.contains(\"Fiction\", na=False)]",
   "id": "cee9437c6c10e10a"
  },
  {
   "metadata": {},
   "cell_type": "code",
   "outputs": [],
   "execution_count": null,
   "source": "",
   "id": "f720fb6bb1459db4"
  }
 ],
 "metadata": {
  "kernelspec": {
   "display_name": "Python 3",
   "language": "python",
   "name": "python3"
  },
  "language_info": {
   "codemirror_mode": {
    "name": "ipython",
    "version": 2
   },
   "file_extension": ".py",
   "mimetype": "text/x-python",
   "name": "python",
   "nbconvert_exporter": "python",
   "pygments_lexer": "ipython2",
   "version": "2.7.6"
  }
 },
 "nbformat": 4,
 "nbformat_minor": 5
}
